{
 "cells": [
  {
   "cell_type": "markdown",
   "metadata": {
    "janus": {
     "all_versions_showing": false,
     "cell_hidden": false,
     "current_version": 0,
     "id": "cd44fe9dc68ca",
     "named_versions": [],
     "output_hidden": false,
     "show_versions": false,
     "source_hidden": false,
     "versions": []
    }
   },
   "source": [
    "# Exoplanet Classification - COGS 118B Final"
   ]
  },
  {
   "cell_type": "markdown",
   "metadata": {
    "janus": {
     "all_versions_showing": false,
     "cell_hidden": false,
     "current_version": 0,
     "id": "4f51d8213f216",
     "named_versions": [],
     "output_hidden": false,
     "show_versions": false,
     "source_hidden": false,
     "versions": []
    }
   },
   "source": [
    "## Import Necessary Libraries"
   ]
  },
  {
   "cell_type": "code",
   "execution_count": 4,
   "metadata": {
    "janus": {
     "all_versions_showing": false,
     "cell_hidden": false,
     "current_version": 0,
     "id": "82492c9301e87",
     "named_versions": [],
     "output_hidden": false,
     "show_versions": false,
     "source_hidden": false,
     "versions": []
    }
   },
   "outputs": [],
   "source": [
    "import numpy as np\n",
    "import pandas as pd\n",
    "from numpy.random import seed\n",
    "from tensorflow import set_random_seed\n",
    "import tensorflow as tf\n",
    "from sklearn.metrics import *\n",
    "from keras.utils import plot_model\n",
    "from keras.models import Model\n",
    "from keras.layers import Dense, Activation, Dropout, Input, Conv1D, GRU, Flatten, MaxPooling1D, BatchNormalization\n",
    "from keras.optimizers import Adam\n",
    "from keras import backend as K\n",
    "from keras.callbacks import ModelCheckpoint\n",
    "import seaborn as sn\n",
    "import matplotlib.pyplot as plt\n",
    "import pickle\n",
    "from tqdm import tqdm"
   ]
  },
  {
   "cell_type": "markdown",
   "metadata": {
    "janus": {
     "all_versions_showing": false,
     "cell_hidden": false,
     "current_version": 0,
     "id": "285219539fdbc",
     "named_versions": [],
     "output_hidden": false,
     "show_versions": false,
     "source_hidden": false,
     "versions": []
    }
   },
   "source": [
    "## Define Model Architecture"
   ]
  },
  {
   "cell_type": "code",
   "execution_count": 5,
   "metadata": {
    "janus": {
     "all_versions_showing": false,
     "cell_hidden": false,
     "current_version": 0,
     "id": "59171da88cb3d",
     "named_versions": [],
     "output_hidden": false,
     "show_versions": false,
     "source_hidden": false,
     "versions": []
    }
   },
   "outputs": [],
   "source": [
    "def model(input_shape):\n",
    "    \n",
    "    #Define Input Layer\n",
    "    X_input = Input(shape = input_shape)\n",
    "    \n",
    "    #Perform a 1D Convolution To Detect Features and Reduce Dimensionality\n",
    "    X = Conv1D(32, kernel_size=10, strides=4)(X_input)\n",
    "    X = MaxPooling1D(pool_size=4, strides=2)(X)\n",
    "    X = Activation('relu')(X)\n",
    "    \n",
    "    #Pass Input Through GRU with Hidden Size 192\n",
    "    X = GRU(192,return_sequences=True)(X)\n",
    "    X = Flatten()(X)\n",
    "    \n",
    "    # Regularize Model With Dropout\n",
    "    X = Dropout(0.5)(X)            \n",
    "\n",
    "    #Additional Regularization with BatchNorm                     \n",
    "    X = BatchNormalization()(X)   \n",
    "\n",
    "    #Calculate Class Probability Score \n",
    "    X = Dense(1, activation=\"sigmoid\")(X)\n",
    "\n",
    "    #Initialize Model Object\n",
    "    model = Model(inputs=X_input, outputs = X)\n",
    "    \n",
    "    return model  "
   ]
  },
  {
   "cell_type": "markdown",
   "metadata": {
    "janus": {
     "all_versions_showing": false,
     "cell_hidden": false,
     "current_version": 0,
     "id": "bbab470c509a3",
     "named_versions": [],
     "output_hidden": false,
     "show_versions": false,
     "source_hidden": false,
     "versions": []
    }
   },
   "source": [
    "## Process Training and Testing Data"
   ]
  },
  {
   "cell_type": "markdown",
   "metadata": {
    "janus": {
     "all_versions_showing": false,
     "cell_hidden": false,
     "current_version": 0,
     "id": "d564fa4d0652d",
     "named_versions": [],
     "output_hidden": false,
     "show_versions": false,
     "source_hidden": false,
     "versions": []
    }
   },
   "source": [
    "### Perform Data Augmentation"
   ]
  },
  {
   "cell_type": "code",
   "execution_count": 6,
   "metadata": {
    "janus": {
     "all_versions_showing": false,
     "cell_hidden": false,
     "current_version": 0,
     "id": "8eb8124de8167",
     "named_versions": [],
     "output_hidden": false,
     "show_versions": false,
     "source_hidden": false,
     "versions": []
    }
   },
   "outputs": [],
   "source": [
    "def augment(df, num_to_generate):\n",
    "    \n",
    "    #Select All Positive Examples\n",
    "    positive_examples = df.loc[df['LABEL'] == 2]\n",
    "    \n",
    "    #Initialize Array to Store Augmented Values\n",
    "    augmented = []\n",
    "    \n",
    "    #Generate augmented data \n",
    "    for _ in tqdm(range(num_to_generate)):\n",
    "        \n",
    "        #Select a random positive example\n",
    "        sample_idx = np.random.randint(0, len(positive_examples))\n",
    "        \n",
    "        #Create a copy of the selected observation\n",
    "        new_data = positive_examples.iloc[sample_idx][1:].copy()\n",
    "                \n",
    "        #Add gaussian noise to the observation\n",
    "        data = new_data + np.random.normal(20, 1, size=new_data.shape)\n",
    "        \n",
    "        #Append augmented observation to array\n",
    "        augmented.append(data)\n",
    "    \n",
    "    #Create dataframe from 2-d array\n",
    "    ad = pd.DataFrame(augmented)\n",
    "    \n",
    "    #Set all labels as positive\n",
    "    ad['LABEL'] = [2 for _ in range(ad.shape[0])]\n",
    "    \n",
    "    return ad"
   ]
  },
  {
   "cell_type": "markdown",
   "metadata": {
    "janus": {
     "all_versions_showing": false,
     "cell_hidden": false,
     "current_version": 0,
     "id": "4f14a379f5e47",
     "named_versions": [],
     "output_hidden": false,
     "show_versions": false,
     "source_hidden": false,
     "versions": []
    }
   },
   "source": [
    "### Load Training Data"
   ]
  },
  {
   "cell_type": "code",
   "execution_count": 7,
   "metadata": {
    "janus": {
     "all_versions_showing": false,
     "cell_hidden": false,
     "current_version": 0,
     "id": "163bc2e106ed2",
     "named_versions": [],
     "output_hidden": false,
     "show_versions": false,
     "source_hidden": false,
     "versions": []
    }
   },
   "outputs": [
    {
     "name": "stderr",
     "output_type": "stream",
     "text": [
      "100%|██████████| 400/400 [00:01<00:00, 394.89it/s]\n",
      "/Users/icpc/.pyenv/versions/3.6.3/lib/python3.6/site-packages/pandas/core/frame.py:6692: FutureWarning: Sorting because non-concatenation axis is not aligned. A future version\n",
      "of pandas will change to not sort by default.\n",
      "\n",
      "To accept the future behavior, pass 'sort=False'.\n",
      "\n",
      "To retain the current behavior and silence the warning, pass 'sort=True'.\n",
      "\n",
      "  sort=sort)\n"
     ]
    }
   ],
   "source": [
    "#Perform Train Data Processing\n",
    "train = pd.read_csv(\"./data/exoTrain.csv\")\n",
    "\n",
    "#Create 400 Augmented Data Points\n",
    "augmented = augment(train, 400)\n",
    "\n",
    "#Append the augmented data points to the training set\n",
    "train = train.append(augmented)\n",
    "\n",
    "#Get the number of observations and features in train set\n",
    "N_train, M_train = train.shape\n",
    "\n",
    "#Reduce Number of Features by 1 | To account for Label Col\n",
    "M_train -= 1\n",
    "\n",
    "#Store Training Labels\n",
    "y_train = train['LABEL'].values\n",
    "\n",
    "#Turn Labels from (1,2) to (0,1)\n",
    "y_train -=1\n",
    "\n",
    "#Store Training Data\n",
    "X_train = train.drop('LABEL', axis=1).values.reshape(N_train, M_train, 1)"
   ]
  },
  {
   "cell_type": "markdown",
   "metadata": {
    "janus": {
     "all_versions_showing": false,
     "cell_hidden": false,
     "current_version": 0,
     "id": "abba405a7834",
     "named_versions": [],
     "output_hidden": false,
     "show_versions": false,
     "source_hidden": false,
     "versions": []
    }
   },
   "source": [
    "### Load Testing Data"
   ]
  },
  {
   "cell_type": "code",
   "execution_count": 8,
   "metadata": {
    "janus": {
     "all_versions_showing": false,
     "cell_hidden": false,
     "current_version": 0,
     "id": "6d27bd7775db1",
     "named_versions": [],
     "output_hidden": false,
     "show_versions": false,
     "source_hidden": false,
     "versions": []
    }
   },
   "outputs": [],
   "source": [
    "#Load data from test csv into a dataframe\n",
    "test = pd.read_csv(\"./data/exoTest.csv\")\n",
    "\n",
    "#Get the shape of the test dataset\n",
    "N_test, M_test = test.shape\n",
    "\n",
    "#Subtract by 1 to account for label column\n",
    "M_test -= 1\n",
    "\n",
    "#Extract the label values as integers\n",
    "y_test = test['LABEL'].values\n",
    "\n",
    "#Subtract 1 from the label vector to turn labels from (1,2) to (0,1)\n",
    "y_test -= 1\n",
    "\n",
    "#Expand Dimensions \n",
    "X_test = test.drop('LABEL',axis=1).values.reshape(N_test, M_test, 1)"
   ]
  },
  {
   "cell_type": "code",
   "execution_count": 9,
   "metadata": {
    "janus": {
     "all_versions_showing": false,
     "cell_hidden": false,
     "current_version": 0,
     "id": "8d8589a4ad63c",
     "named_versions": [],
     "output_hidden": false,
     "show_versions": false,
     "source_hidden": false,
     "versions": []
    },
    "scrolled": false
   },
   "outputs": [
    {
     "name": "stdout",
     "output_type": "stream",
     "text": [
      "_________________________________________________________________\n",
      "Layer (type)                 Output Shape              Param #   \n",
      "=================================================================\n",
      "input_1 (InputLayer)         (None, 3197, 1)           0         \n",
      "_________________________________________________________________\n",
      "conv1d_1 (Conv1D)            (None, 797, 32)           352       \n",
      "_________________________________________________________________\n",
      "max_pooling1d_1 (MaxPooling1 (None, 397, 32)           0         \n",
      "_________________________________________________________________\n",
      "activation_1 (Activation)    (None, 397, 32)           0         \n",
      "_________________________________________________________________\n",
      "gru_1 (GRU)                  (None, 397, 192)          129600    \n",
      "_________________________________________________________________\n",
      "flatten_1 (Flatten)          (None, 76224)             0         \n",
      "_________________________________________________________________\n",
      "dropout_1 (Dropout)          (None, 76224)             0         \n",
      "_________________________________________________________________\n",
      "batch_normalization_1 (Batch (None, 76224)             304896    \n",
      "_________________________________________________________________\n",
      "dense_1 (Dense)              (None, 1)                 76225     \n",
      "=================================================================\n",
      "Total params: 511,073\n",
      "Trainable params: 358,625\n",
      "Non-trainable params: 152,448\n",
      "_________________________________________________________________\n"
     ]
    }
   ],
   "source": [
    "#Set a seed for reproducability\n",
    "seed(42)\n",
    "set_random_seed(42)\n",
    "\n",
    "#Initialize GRU Model\n",
    "gru_model = model(input_shape = (3197, 1))\n",
    "\n",
    "#Initialize an Adam Optimizer \n",
    "opt = Adam(lr=0.0001, beta_1=0.9, beta_2=0.999, decay=0.01)\n",
    "\n",
    "#Compile Model with BCE Loss and Optimizer\n",
    "gru_model.compile(loss='binary_crossentropy', optimizer=opt, metrics=[\"accuracy\"])\n",
    "\n",
    "#Print A Summary of the Model Architecture\n",
    "gru_model.summary()\n",
    "\n",
    "#Store the class weights to account for the dataset imbalance\n",
    "class_weight = {0: 1., 1: 4}\n",
    "\n",
    "#Fit Model to Training Data and Validate on Test Set\n",
    "#history = gru_model.fit(X_train, y_train, validation_data=(X_test, y_test), batch_size=128, epochs=5, shuffle=True, class_weight=class_weight)"
   ]
  },
  {
   "cell_type": "code",
   "execution_count": 49,
   "metadata": {
    "janus": {
     "all_versions_showing": false,
     "cell_hidden": false,
     "current_version": 0,
     "id": "7800aad05edf6",
     "named_versions": [],
     "output_hidden": false,
     "show_versions": false,
     "source_hidden": false,
     "versions": []
    }
   },
   "outputs": [
    {
     "data": {
      "text/plain": [
       "<matplotlib.legend.Legend at 0x12045b828>"
      ]
     },
     "execution_count": 49,
     "metadata": {},
     "output_type": "execute_result"
    },
    {
     "data": {
      "image/png": "[encoded data removed]",
      "text/plain": [
       "<Figure size 432x288 with 1 Axes>"
      ]
     },
     "metadata": {},
     "output_type": "display_data"
    }
   ],
   "source": [
    "plt.plot(history.history['loss'], label=\"Training Loss\")\n",
    "plt.plot(history.history['val_loss'], label=\"Validation Loss\")\n",
    "plt.title(\"Cross-Entropy Loss\")\n",
    "plt.xlabel(\"Epochs\")\n",
    "plt.ylabel(\"Loss\")\n",
    "plt.legend()"
   ]
  },
  {
   "cell_type": "code",
   "execution_count": 50,
   "metadata": {
    "janus": {
     "all_versions_showing": false,
     "cell_hidden": false,
     "current_version": 0,
     "id": "5b4731f4e377b",
     "named_versions": [],
     "output_hidden": false,
     "show_versions": false,
     "source_hidden": false,
     "versions": []
    },
    "scrolled": true
   },
   "outputs": [
    {
     "data": {
      "text/plain": [
       "<matplotlib.legend.Legend at 0x1204695f8>"
      ]
     },
     "execution_count": 50,
     "metadata": {},
     "output_type": "execute_result"
    },
    {
     "data": {
      "image/png": "[encoded data removed]",
      "text/plain": [
       "<Figure size 432x288 with 1 Axes>"
      ]
     },
     "metadata": {},
     "output_type": "display_data"
    }
   ],
   "source": [
    "plt.plot(history.history['acc'], label=\"Training Acc\")\n",
    "plt.plot(history.history['val_acc'], label=\"Validation Acc\")\n",
    "plt.title(\"Accuracy\")\n",
    "plt.xlabel(\"Epochs\")\n",
    "plt.ylabel(\"Accuracy\")\n",
    "plt.legend()"
   ]
  },
  {
   "cell_type": "code",
   "execution_count": 63,
   "metadata": {
    "janus": {
     "all_versions_showing": false,
     "cell_hidden": false,
     "current_version": 0,
     "id": "19bd27fb3a0ef",
     "named_versions": [],
     "output_hidden": false,
     "show_versions": false,
     "source_hidden": false,
     "versions": []
    }
   },
   "outputs": [
    {
     "data": {
      "text/plain": [
       "<matplotlib.legend.Legend at 0x119f7b588>"
      ]
     },
     "execution_count": 63,
     "metadata": {},
     "output_type": "execute_result"
    },
    {
     "data": {
      "image/png": "[encoded data removed]",
      "text/plain": [
       "<Figure size 432x288 with 1 Axes>"
      ]
     },
     "metadata": {},
     "output_type": "display_data"
    }
   ],
   "source": [
    "plt.plot(history.history['precision_m'], label=\"Training Acc\")\n",
    "plt.plot(history.history['val_precision_m'], label=\"Validation Acc\")\n",
    "plt.title(\"Accuracy\")\n",
    "plt.xlabel(\"Epochs\")\n",
    "plt.ylabel(\"Accuracy\")\n",
    "plt.legend()"
   ]
  },
  {
   "cell_type": "code",
   "execution_count": 51,
   "metadata": {
    "janus": {
     "all_versions_showing": false,
     "cell_hidden": false,
     "current_version": 0,
     "id": "ce1aa6488c28c",
     "named_versions": [],
     "output_hidden": false,
     "show_versions": false,
     "source_hidden": false,
     "versions": []
    }
   },
   "outputs": [],
   "source": [
    "preds = gru_model.predict(X_test)"
   ]
  },
  {
   "cell_type": "code",
   "execution_count": 74,
   "metadata": {
    "janus": {
     "all_versions_showing": false,
     "cell_hidden": false,
     "current_version": 0,
     "id": "a5322c6b92bb6",
     "named_versions": [],
     "output_hidden": false,
     "show_versions": false,
     "source_hidden": false,
     "versions": []
    }
   },
   "outputs": [],
   "source": [
    "idxs = (preds > 0.5).astype(int)"
   ]
  },
  {
   "cell_type": "code",
   "execution_count": 77,
   "metadata": {
    "janus": {
     "all_versions_showing": false,
     "cell_hidden": false,
     "current_version": 0,
     "id": "6952fdb20704b",
     "named_versions": [],
     "output_hidden": false,
     "show_versions": false,
     "source_hidden": false,
     "versions": []
    }
   },
   "outputs": [
    {
     "name": "stdout",
     "output_type": "stream",
     "text": [
      "F1: 0.9849212369840779\n",
      "Precision: 0.9856600721662313\n",
      "Recall: 0.9842105263157894\n"
     ]
    }
   ],
   "source": [
    "print(\"F1:\", f1_score(y_test, idxs, average=\"weighted\"))\n",
    "print(\"Precision:\", precision_score(y_test, idxs, average=\"weighted\"))\n",
    "print(\"Recall:\", recall_score(y_test, idxs, average=\"weighted\"))"
   ]
  },
  {
   "cell_type": "code",
   "execution_count": 91,
   "metadata": {
    "janus": {
     "all_versions_showing": false,
     "cell_hidden": false,
     "current_version": 0,
     "id": "996ce5f2010a2",
     "named_versions": [],
     "output_hidden": false,
     "show_versions": false,
     "source_hidden": false,
     "versions": []
    }
   },
   "outputs": [
    {
     "data": {
      "text/plain": [
       "0.9842105263157894"
      ]
     },
     "execution_count": 91,
     "metadata": {},
     "output_type": "execute_result"
    }
   ],
   "source": [
    "fpr, tpr, _ = roc_curve(y_test, preds)"
   ]
  },
  {
   "cell_type": "code",
   "execution_count": 89,
   "metadata": {
    "janus": {
     "all_versions_showing": false,
     "cell_hidden": false,
     "current_version": 0,
     "id": "cf7d351265052",
     "named_versions": [],
     "output_hidden": false,
     "show_versions": false,
     "source_hidden": false,
     "versions": []
    }
   },
   "outputs": [
    {
     "data": {
      "text/plain": [
       "Text(0, 0.5, 'True Positive Rate')"
      ]
     },
     "execution_count": 89,
     "metadata": {},
     "output_type": "execute_result"
    },
    {
     "data": {
      "image/png": "[encoded data removed]",
      "text/plain": [
       "<Figure size 432x288 with 1 Axes>"
      ]
     },
     "metadata": {},
     "output_type": "display_data"
    }
   ],
   "source": [
    "plt.plot(fpr, tpr)\n",
    "plt.title('ROC')\n",
    "plt.xlabel('False Positive Rate')\n",
    "plt.ylabel('True Positive Rate')"
   ]
  },
  {
   "cell_type": "code",
   "execution_count": 67,
   "metadata": {
    "janus": {
     "all_versions_showing": false,
     "cell_hidden": false,
     "current_version": 0,
     "id": "7b1c4c6a9b167",
     "named_versions": [],
     "output_hidden": false,
     "show_versions": false,
     "source_hidden": false,
     "versions": []
    }
   },
   "outputs": [],
   "source": [
    "plot_model(gru_model, to_file=\"architecture.png\")"
   ]
  }
 ],
 "metadata": {
  "janus": {
   "filepaths": [],
   "janus_markers": [],
   "track_history": true
  },
  "kernelspec": {
   "display_name": "Python 3",
   "language": "python",
   "name": "python3"
  },
  "language_info": {
   "codemirror_mode": {
    "name": "ipython",
    "version": 3
   },
   "file_extension": ".py",
   "mimetype": "text/x-python",
   "name": "python",
   "nbconvert_exporter": "python",
   "pygments_lexer": "ipython3",
   "version": "3.6.3"
  }
 },
 "nbformat": 4,
 "nbformat_minor": 2
}
